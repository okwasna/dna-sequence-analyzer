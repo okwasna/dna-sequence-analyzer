{
  "nbformat": 4,
  "nbformat_minor": 0,
  "metadata": {
    "colab": {
      "provenance": [],
      "authorship_tag": "ABX9TyNWzEfySS/2RVEWjTjDhZ7q",
      "include_colab_link": true
    },
    "kernelspec": {
      "name": "python3",
      "display_name": "Python 3"
    },
    "language_info": {
      "name": "python"
    }
  },
  "cells": [
    {
      "cell_type": "markdown",
      "metadata": {
        "id": "view-in-github",
        "colab_type": "text"
      },
      "source": [
        "<a href=\"https://colab.research.google.com/github/okwasna/dna-sequence-analyzer/blob/main/dna_sequence_analyzer.ipynb\" target=\"_parent\"><img src=\"https://colab.research.google.com/assets/colab-badge.svg\" alt=\"Open In Colab\"/></a>"
      ]
    },
    {
      "cell_type": "code",
      "execution_count": null,
      "metadata": {
        "id": "32EmN14f-s93"
      },
      "outputs": [],
      "source": [
        "sekwencja = input(\"Podaj sekwencję (A/T G/C): \")\n",
        "print(\"Sekwencja:\", sekwencja)\n",
        "print(\"Długość sekwencji:\", len(sekwencja))\n",
        "\n",
        "liczba_a = sekwencja.count(\"A\")\n",
        "liczba_t = sekwencja.count(\"T\")\n",
        "liczba_g = sekwencja.count(\"G\")\n",
        "liczba_c = sekwencja.count(\"C\")\n",
        "\n",
        "print(\"Liczba A:\", liczba_a)\n",
        "print(\"Liczba T:\", liczba_t)\n",
        "print(\"Liczba G:\", liczba_g)\n",
        "print(\"Liczba C:\", liczba_c)\n",
        "\n",
        "dlugosc = len(sekwencja)\n",
        "\n",
        "if dlugosc > 0:\n",
        "    procent_a = (liczba_a / dlugosc) * 100\n",
        "    procent_t = (liczba_t / dlugosc) * 100\n",
        "    procent_g = (liczba_g / dlugosc) * 100\n",
        "    procent_c = (liczba_c / dlugosc) * 100\n",
        "\n",
        "    print(f\"Procent A: {procent_a:.2f}%\")\n",
        "    print(f\"Procent T: {procent_t:.2f}%\")\n",
        "    print(f\"Procent G: {procent_g:.2f}%\")\n",
        "    print(f\"Procent C: {procent_c:.2f}%\")\n",
        "else:\n",
        "    print(\"Sekwencja jest pusta.\")\n",
        "\n",
        "print (\"Rodzaje zasad:\")\n",
        "puryny=liczba_a +liczba_g\n",
        "pirymidy=liczba_c+liczba_t\n",
        "print(\"Puryny\",puryny, \"Pirymidy\",pirymidy)\n",
        "procent_puryny= (puryny/dlugosc) *100\n",
        "procent_pirymidy= (pirymidy/dlugosc) *100\n",
        "print(\"Udział puryn:\",procent_puryny, \"Udział pirymid:\",procent_pirymidy)"
      ]
    }
  ]
}